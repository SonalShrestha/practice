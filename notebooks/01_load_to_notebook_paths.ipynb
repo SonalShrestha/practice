{
 "cells": [
  {
   "cell_type": "code",
   "execution_count": 0,
   "metadata": {
    "application/vnd.databricks.v1+cell": {
     "cellMetadata": {},
     "inputWidgets": {},
     "nuid": "db103818-5dc4-4e83-bb8e-4ca94d82de6e",
     "showTitle": false,
     "tableResultSettingsMap": {},
     "title": ""
    }
   },
   "outputs": [],
   "source": [
    "import json\n",
    "\n",
    "dbutils.widgets.text(\"client_name\", \"\", \"Client Name\")\n",
    "client_name = dbutils.widgets.get(\"client_name\")\n",
    "\n",
    "#Validating client_name:\n",
    "if not client_name:\n",
    "    raise Exception(\"Pleas provide a client name.\")"
   ]
  },
  {
   "cell_type": "code",
   "execution_count": 0,
   "metadata": {
    "application/vnd.databricks.v1+cell": {
     "cellMetadata": {},
     "inputWidgets": {},
     "nuid": "83603d52-cde2-40ff-bb74-ac6335477456",
     "showTitle": false,
     "tableResultSettingsMap": {},
     "title": ""
    }
   },
   "outputs": [],
   "source": [
    "#Defining the folder path\n",
    "workspace_base = f\"/Workspace/Projects/Clients/{client_name}\" # path to be be determined\n",
    "\n",
    "notebooks = []\n",
    "for item in dbutils.workspace.ls(workspace_base):\n",
    "    if item.path.endswith(\".py\") or item.path.endswith(\".ipynb\"):\n",
    "        notebooks.append(item.path)\n",
    "\n",
    "#Set output for downstream task\n",
    "dbutils.jobs.taskvalues.set(key=\"notebook_paths\", value=json.dumps(notebooks))\n",
    "\n",
    "print(f\"Found {len(notebooks)} notebooks for client {client_name}.\")"
   ]
  }
 ],
 "metadata": {
  "application/vnd.databricks.v1+notebook": {
   "computePreferences": null,
   "dashboards": [],
   "environmentMetadata": {
    "base_environment": "",
    "environment_version": "2"
   },
   "inputWidgetPreferences": null,
   "language": "python",
   "notebookMetadata": {
    "pythonIndentUnit": 4
   },
   "notebookName": "01_load_to_notebook_paths",
   "widgets": {}
  },
  "language_info": {
   "name": "python"
  }
 },
 "nbformat": 4,
 "nbformat_minor": 0
}