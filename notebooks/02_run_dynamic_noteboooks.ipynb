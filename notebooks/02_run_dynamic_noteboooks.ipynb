{
 "cells": [
  {
   "cell_type": "markdown",
   "metadata": {
    "application/vnd.databricks.v1+cell": {
     "cellMetadata": {},
     "inputWidgets": {},
     "nuid": "daccff64-8ea0-49cd-bf51-d630d8eef51e",
     "showTitle": false,
     "tableResultSettingsMap": {},
     "title": ""
    }
   },
   "source": [
    "This notebook:\n",
    "- Accepts notebook_path as a parameter\n",
    "- Launches the referenced notebook"
   ]
  },
  {
   "cell_type": "code",
   "execution_count": 0,
   "metadata": {
    "application/vnd.databricks.v1+cell": {
     "cellMetadata": {},
     "inputWidgets": {},
     "nuid": "3f1aac64-f9d7-4ed2-8fef-0b887bfb590d",
     "showTitle": false,
     "tableResultSettingsMap": {},
     "title": ""
    }
   },
   "outputs": [],
   "source": [
    "# Getting the script_path from widget\n",
    "\n",
    "dbutils.widgets.text(\"notebook_path\", \"\", \"Notebook path to run\")\n",
    "notebook_path = dbutils.widgets.get(\"notebook_path\")\n",
    "\n",
    "if not notebook_path:\n",
    "  raise Exception(\"Please provide a notebook path to run\")\n",
    "\n",
    "print(f\"Running notebook: {notebook_path}\")\n",
    "dbutils.notebook.run(notebook_path, 0)"
   ]
  }
 ],
 "metadata": {
  "application/vnd.databricks.v1+notebook": {
   "computePreferences": null,
   "dashboards": [],
   "environmentMetadata": {
    "base_environment": "",
    "environment_version": "2"
   },
   "inputWidgetPreferences": null,
   "language": "python",
   "notebookMetadata": {
    "pythonIndentUnit": 4
   },
   "notebookName": "02_run_dynamic_noteboooks",
   "widgets": {}
  },
  "language_info": {
   "name": "python"
  }
 },
 "nbformat": 4,
 "nbformat_minor": 0
}